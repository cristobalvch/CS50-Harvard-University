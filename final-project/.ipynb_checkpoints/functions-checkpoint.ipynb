{
 "cells": [
  {
   "cell_type": "code",
   "execution_count": 5,
   "metadata": {},
   "outputs": [],
   "source": [
    "import pandas as pd\n",
    "import numpy as np"
   ]
  },
  {
   "cell_type": "code",
   "execution_count": 96,
   "metadata": {},
   "outputs": [],
   "source": [
    "#Url del dataset base\n",
    "def concat(month,lastday):\n",
    "    first = 'https://raw.githubusercontent.com/MinCiencia/Datos-COVID19/master/output/producto4/'\n",
    "    rule =  '2020-0'+str(month)+'-01'\n",
    "    end = '-CasosConfirmados-totalRegional.csv'\n",
    "    data = pd.read_csv(first+rule+end, encoding='utf8')\n",
    "    data['fecha'] = str(month)+'/1/2020'\n",
    "    data.drop(data.index[-1], inplace=True)\n",
    "    for i  in range(2,lastday+1):\n",
    "        if i <10:\n",
    "            date = '2020-0'+str(month)+'-0'+str(i)\n",
    "        if 10<= i <=lastday:   \n",
    "            date = '2020-0'+str(month)+'-'+str(i)\n",
    "        filename = first+date+end\n",
    "        temp_data = pd.read_csv(filename, encoding='utf8')\n",
    "        temp_data['fecha'] = str(month) +'/'+str(i) +'/2020'\n",
    "        temp_data.columns = data.columns\n",
    "        temp_data.drop(temp_data.index[-1], inplace=True)\n",
    "        data = pd.concat([data,temp_data])\n",
    "        #data = data.reset_index(drop=True)\n",
    "    return data\n",
    "\n",
    "def grouped(data):\n",
    "    grouped_data = data.groupby(['Region','fecha']).sum().sort_values(data.columns[1])\n",
    "    return grouped_data"
   ]
  },
  {
   "cell_type": "code",
   "execution_count": 97,
   "metadata": {},
   "outputs": [],
   "source": [
    "ab = concat(4,28)\n",
    "may = concat(5,31)\n",
    "jun  = concat(6,11)"
   ]
  },
  {
   "cell_type": "code",
   "execution_count": null,
   "metadata": {},
   "outputs": [],
   "source": []
  },
  {
   "cell_type": "code",
   "execution_count": null,
   "metadata": {},
   "outputs": [],
   "source": []
  },
  {
   "cell_type": "code",
   "execution_count": null,
   "metadata": {},
   "outputs": [],
   "source": []
  },
  {
   "cell_type": "code",
   "execution_count": null,
   "metadata": {},
   "outputs": [],
   "source": []
  },
  {
   "cell_type": "code",
   "execution_count": null,
   "metadata": {},
   "outputs": [],
   "source": []
  }
 ],
 "metadata": {
  "kernelspec": {
   "display_name": "Python 3",
   "language": "python",
   "name": "python3"
  },
  "language_info": {
   "codemirror_mode": {
    "name": "ipython",
    "version": 3
   },
   "file_extension": ".py",
   "mimetype": "text/x-python",
   "name": "python",
   "nbconvert_exporter": "python",
   "pygments_lexer": "ipython3",
   "version": "3.7.6"
  }
 },
 "nbformat": 4,
 "nbformat_minor": 4
}
